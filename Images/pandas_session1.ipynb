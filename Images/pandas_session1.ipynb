{
 "cells": [
  {
   "cell_type": "markdown",
   "metadata": {
    "slideshow": {
     "slide_type": "slide"
    }
   },
   "source": [
    "# Pandas is a library that helps you work with data as tables\n",
    "\n",
    "\n",
    "<table><tr>\n",
    "<td> <img src=\"../data/images/pandas.png\" alt=\"pandas library\" style=\"width: 400px;\"/> </td>\n",
    "<td> <img src=\"../data/images/pandas1.png\" alt=\"pandas library alternative\" style=\"width: 400px;\"/></td>\n",
    "</tr></table>\n",
    "\n",
    "\n",
    "\n",
    "## Quick recap on 'Library'\n",
    "- A library allows you to reuse code someone else has kindly written for us\n",
    "- The concept of library ecosystem is one of the reasons Python is so popular today\n",
    "- Some libraries are incuded in Python by default, others can be installed via `pip` and you can also make your own!\n",
    "\n"
   ]
  },
  {
   "cell_type": "code",
   "execution_count": 3,
   "metadata": {
    "slideshow": {
     "slide_type": "subslide"
    }
   },
   "outputs": [
    {
     "data": {
      "text/plain": [
       "80"
      ]
     },
     "execution_count": 3,
     "metadata": {},
     "output_type": "execute_result"
    }
   ],
   "source": [
    "## [Q1] What will the cell below do?\n",
    "\n",
    "import random\n",
    "random.randint(1,100)"
   ]
  },
  {
   "cell_type": "markdown",
   "metadata": {
    "slideshow": {
     "slide_type": "slide"
    }
   },
   "source": [
    "# Introduction to Pandas\n",
    "\n",
    "### `Pandas` is named after __Panel Data__ which is a concept about __multidimensional matricies__. \n",
    "\n",
    "<img src=\"data/images/wes.jpg\" style=\"width: 200px;\"/>\n",
    "\n",
    "Pandas was originally written by [Wes McKinney](https://en.wikipedia.org/wiki/Wes_McKinney) who was working at a hedge fund and needed a tool to better deal with the time-series data he was working with day to day. It's a great story for a few reasons:\n",
    "\n",
    "1. It's a great example of an open source project going far and beyond what the creator anticipated.\n",
    "2. He's admitted that when he started the project he wasn't very good at Python. \n",
    "3. This amazing tool used by thousands of people was made by 'just some guy'.\n"
   ]
  },
  {
   "cell_type": "markdown",
   "metadata": {
    "slideshow": {
     "slide_type": "slide"
    }
   },
   "source": [
    "## How to use Pandas\n",
    "\n",
    "\n",
    "ALWAYS REMEMBER: **NO ONE WAS BORN KNOWING ALL OF THIS**\n",
    "\n",
    "Everyone was a beginner once (even Wes McKinney) and help is available. The answer to pretty much every Python / Pandas question WILL be online, getting good at \"Googling\" is arguably the best skill you can have as a programmer.\n",
    "\n",
    "- The [official documentation](https://pandas.pydata.org/pandas-docs/stable/) is great\n",
    "\n"
   ]
  },
  {
   "cell_type": "markdown",
   "metadata": {
    "slideshow": {
     "slide_type": "slide"
    }
   },
   "source": [
    "### To start using Pandas you need to import it\n",
    "\n",
    "- The code below is very much convention, you don't need to do the `pd` part - but most end up doing so for ease when typing. \n",
    "- Programmers are lazy, remember that's why we care about 'efficiency' - less actual work."
   ]
  },
  {
   "cell_type": "code",
   "execution_count": 10,
   "metadata": {
    "slideshow": {
     "slide_type": "subslide"
    }
   },
   "outputs": [],
   "source": [
    "import pandas # you can do this and it's totally fine "
   ]
  },
  {
   "cell_type": "code",
   "execution_count": 11,
   "metadata": {
    "slideshow": {
     "slide_type": "subslide"
    }
   },
   "outputs": [],
   "source": [
    "import pandas as pd # most people do this to avoid typing"
   ]
  },
  {
   "cell_type": "code",
   "execution_count": null,
   "metadata": {
    "slideshow": {
     "slide_type": "subslide"
    }
   },
   "outputs": [],
   "source": [
    "pd. #Press tab to see autocomplete "
   ]
  },
  {
   "cell_type": "markdown",
   "metadata": {
    "slideshow": {
     "slide_type": "slide"
    }
   },
   "source": [
    "# The world runs on Excel\n",
    "\n",
    "- It's on everyones computer\n",
    "- It's not going anywhere\n",
    "- It's in use everywhere from small businesses to Nuclear power plants\n",
    "\n",
    "### - Pandas can make our life easy, because it has lots of fancy features, which allow us to work with Excel spreadsheets and many more!\n"
   ]
  },
  {
   "cell_type": "markdown",
   "metadata": {
    "slideshow": {
     "slide_type": "subslide"
    }
   },
   "source": [
    "# Opening a Spreadsheet in Pandas is simple...\n",
    "\n",
    "## [Q2] What do you think `pd.DataFrame.head()` does?\n",
    " Let's try it together"
   ]
  },
  {
   "cell_type": "code",
   "execution_count": 5,
   "metadata": {
    "slideshow": {
     "slide_type": "subslide"
    }
   },
   "outputs": [
    {
     "data": {
      "text/html": [
       "<div>\n",
       "<style scoped>\n",
       "    .dataframe tbody tr th:only-of-type {\n",
       "        vertical-align: middle;\n",
       "    }\n",
       "\n",
       "    .dataframe tbody tr th {\n",
       "        vertical-align: top;\n",
       "    }\n",
       "\n",
       "    .dataframe thead th {\n",
       "        text-align: right;\n",
       "    }\n",
       "</style>\n",
       "<table border=\"1\" class=\"dataframe\">\n",
       "  <thead>\n",
       "    <tr style=\"text-align: right;\">\n",
       "      <th></th>\n",
       "      <th>Title</th>\n",
       "      <th>Year</th>\n",
       "      <th>Genres</th>\n",
       "      <th>Language</th>\n",
       "      <th>Country</th>\n",
       "      <th>Content Rating</th>\n",
       "      <th>Duration</th>\n",
       "      <th>Aspect Ratio</th>\n",
       "      <th>Budget</th>\n",
       "      <th>Gross Earnings</th>\n",
       "      <th>...</th>\n",
       "      <th>Facebook Likes - Actor 1</th>\n",
       "      <th>Facebook Likes - Actor 2</th>\n",
       "      <th>Facebook Likes - Actor 3</th>\n",
       "      <th>Facebook Likes - cast Total</th>\n",
       "      <th>Facebook likes - Movie</th>\n",
       "      <th>Facenumber in posters</th>\n",
       "      <th>User Votes</th>\n",
       "      <th>Reviews by Users</th>\n",
       "      <th>Reviews by Crtiics</th>\n",
       "      <th>IMDB Score</th>\n",
       "    </tr>\n",
       "  </thead>\n",
       "  <tbody>\n",
       "    <tr>\n",
       "      <th>0</th>\n",
       "      <td>Intolerance: Love's Struggle Throughout the Ages</td>\n",
       "      <td>1916</td>\n",
       "      <td>Drama|History|War</td>\n",
       "      <td>NaN</td>\n",
       "      <td>USA</td>\n",
       "      <td>Not Rated</td>\n",
       "      <td>123</td>\n",
       "      <td>1.33</td>\n",
       "      <td>385907.0</td>\n",
       "      <td>NaN</td>\n",
       "      <td>...</td>\n",
       "      <td>436</td>\n",
       "      <td>22</td>\n",
       "      <td>9.0</td>\n",
       "      <td>481</td>\n",
       "      <td>691</td>\n",
       "      <td>1</td>\n",
       "      <td>10718</td>\n",
       "      <td>88</td>\n",
       "      <td>69.0</td>\n",
       "      <td>8.0</td>\n",
       "    </tr>\n",
       "    <tr>\n",
       "      <th>1</th>\n",
       "      <td>Over the Hill to the Poorhouse</td>\n",
       "      <td>1920</td>\n",
       "      <td>Crime|Drama</td>\n",
       "      <td>NaN</td>\n",
       "      <td>USA</td>\n",
       "      <td>NaN</td>\n",
       "      <td>110</td>\n",
       "      <td>1.33</td>\n",
       "      <td>100000.0</td>\n",
       "      <td>3000000.0</td>\n",
       "      <td>...</td>\n",
       "      <td>2</td>\n",
       "      <td>2</td>\n",
       "      <td>0.0</td>\n",
       "      <td>4</td>\n",
       "      <td>0</td>\n",
       "      <td>1</td>\n",
       "      <td>5</td>\n",
       "      <td>1</td>\n",
       "      <td>1.0</td>\n",
       "      <td>4.8</td>\n",
       "    </tr>\n",
       "    <tr>\n",
       "      <th>2</th>\n",
       "      <td>The Big Parade</td>\n",
       "      <td>1925</td>\n",
       "      <td>Drama|Romance|War</td>\n",
       "      <td>NaN</td>\n",
       "      <td>USA</td>\n",
       "      <td>Not Rated</td>\n",
       "      <td>151</td>\n",
       "      <td>1.33</td>\n",
       "      <td>245000.0</td>\n",
       "      <td>NaN</td>\n",
       "      <td>...</td>\n",
       "      <td>81</td>\n",
       "      <td>12</td>\n",
       "      <td>6.0</td>\n",
       "      <td>108</td>\n",
       "      <td>226</td>\n",
       "      <td>0</td>\n",
       "      <td>4849</td>\n",
       "      <td>45</td>\n",
       "      <td>48.0</td>\n",
       "      <td>8.3</td>\n",
       "    </tr>\n",
       "    <tr>\n",
       "      <th>3</th>\n",
       "      <td>Metropolis</td>\n",
       "      <td>1927</td>\n",
       "      <td>Drama|Sci-Fi</td>\n",
       "      <td>German</td>\n",
       "      <td>Germany</td>\n",
       "      <td>Not Rated</td>\n",
       "      <td>145</td>\n",
       "      <td>1.33</td>\n",
       "      <td>6000000.0</td>\n",
       "      <td>26435.0</td>\n",
       "      <td>...</td>\n",
       "      <td>136</td>\n",
       "      <td>23</td>\n",
       "      <td>18.0</td>\n",
       "      <td>203</td>\n",
       "      <td>12000</td>\n",
       "      <td>1</td>\n",
       "      <td>111841</td>\n",
       "      <td>413</td>\n",
       "      <td>260.0</td>\n",
       "      <td>8.3</td>\n",
       "    </tr>\n",
       "    <tr>\n",
       "      <th>4</th>\n",
       "      <td>Pandora's Box</td>\n",
       "      <td>1929</td>\n",
       "      <td>Crime|Drama|Romance</td>\n",
       "      <td>German</td>\n",
       "      <td>Germany</td>\n",
       "      <td>Not Rated</td>\n",
       "      <td>110</td>\n",
       "      <td>1.33</td>\n",
       "      <td>NaN</td>\n",
       "      <td>9950.0</td>\n",
       "      <td>...</td>\n",
       "      <td>426</td>\n",
       "      <td>20</td>\n",
       "      <td>3.0</td>\n",
       "      <td>455</td>\n",
       "      <td>926</td>\n",
       "      <td>1</td>\n",
       "      <td>7431</td>\n",
       "      <td>84</td>\n",
       "      <td>71.0</td>\n",
       "      <td>8.0</td>\n",
       "    </tr>\n",
       "  </tbody>\n",
       "</table>\n",
       "<p>5 rows × 25 columns</p>\n",
       "</div>"
      ],
      "text/plain": [
       "                                               Title  Year  \\\n",
       "0  Intolerance: Love's Struggle Throughout the Ages   1916   \n",
       "1                    Over the Hill to the Poorhouse   1920   \n",
       "2                                    The Big Parade   1925   \n",
       "3                                        Metropolis   1927   \n",
       "4                                     Pandora's Box   1929   \n",
       "\n",
       "                Genres Language  Country Content Rating  Duration  \\\n",
       "0    Drama|History|War      NaN      USA      Not Rated       123   \n",
       "1          Crime|Drama      NaN      USA            NaN       110   \n",
       "2    Drama|Romance|War      NaN      USA      Not Rated       151   \n",
       "3         Drama|Sci-Fi   German  Germany      Not Rated       145   \n",
       "4  Crime|Drama|Romance   German  Germany      Not Rated       110   \n",
       "\n",
       "   Aspect Ratio     Budget  Gross Earnings  ... Facebook Likes - Actor 1  \\\n",
       "0          1.33   385907.0             NaN  ...                      436   \n",
       "1          1.33   100000.0       3000000.0  ...                        2   \n",
       "2          1.33   245000.0             NaN  ...                       81   \n",
       "3          1.33  6000000.0         26435.0  ...                      136   \n",
       "4          1.33        NaN          9950.0  ...                      426   \n",
       "\n",
       "  Facebook Likes - Actor 2 Facebook Likes - Actor 3  \\\n",
       "0                       22                      9.0   \n",
       "1                        2                      0.0   \n",
       "2                       12                      6.0   \n",
       "3                       23                     18.0   \n",
       "4                       20                      3.0   \n",
       "\n",
       "  Facebook Likes - cast Total  Facebook likes - Movie  Facenumber in posters  \\\n",
       "0                         481                     691                      1   \n",
       "1                           4                       0                      1   \n",
       "2                         108                     226                      0   \n",
       "3                         203                   12000                      1   \n",
       "4                         455                     926                      1   \n",
       "\n",
       "   User Votes  Reviews by Users  Reviews by Crtiics  IMDB Score  \n",
       "0       10718                88                69.0         8.0  \n",
       "1           5                 1                 1.0         4.8  \n",
       "2        4849                45                48.0         8.3  \n",
       "3      111841               413               260.0         8.3  \n",
       "4        7431                84                71.0         8.0  \n",
       "\n",
       "[5 rows x 25 columns]"
      ]
     },
     "execution_count": 5,
     "metadata": {},
     "output_type": "execute_result"
    }
   ],
   "source": [
    "import pandas as pd\n",
    "excel_df = pd.read_excel('../data/movies.xls', sheet_name='1900s')\n",
    "excel_df.head()"
   ]
  },
  {
   "cell_type": "markdown",
   "metadata": {
    "slideshow": {
     "slide_type": "slide"
    }
   },
   "source": [
    "## [Q3] How do you think we could preview the last 10 rows?"
   ]
  },
  {
   "cell_type": "code",
   "execution_count": null,
   "metadata": {
    "slideshow": {
     "slide_type": "subslide"
    }
   },
   "outputs": [],
   "source": []
  },
  {
   "cell_type": "markdown",
   "metadata": {
    "slideshow": {
     "slide_type": "slide"
    }
   },
   "source": [
    "# How to filter columns in Pandas\n",
    "\n",
    "- There are a couple of ways to do this\n",
    "- The simplest way is to pass a list of columns to the DataFrame within square brackets `[]`\n",
    "- This is very similar to what you've seen with `List` objects e.g. `[1,2,3,4]`\n",
    "\n",
    "\n",
    "`data_frame[[col1, col2, col3 ...]]`\n",
    "\n",
    "This looks a little funny but the two sets of square brackets are doing different things.\n",
    "1. The first set (outermost) are saying: 'Please provide me with a sequence of column names'\n",
    "2. The second (innermost) set are simply an explicit set of columns to select\n",
    "\n",
    "Run the cell below to select to see it in action"
   ]
  },
  {
   "cell_type": "code",
   "execution_count": 10,
   "metadata": {
    "slideshow": {
     "slide_type": "subslide"
    }
   },
   "outputs": [
    {
     "data": {
      "text/html": [
       "<div>\n",
       "<style scoped>\n",
       "    .dataframe tbody tr th:only-of-type {\n",
       "        vertical-align: middle;\n",
       "    }\n",
       "\n",
       "    .dataframe tbody tr th {\n",
       "        vertical-align: top;\n",
       "    }\n",
       "\n",
       "    .dataframe thead th {\n",
       "        text-align: right;\n",
       "    }\n",
       "</style>\n",
       "<table border=\"1\" class=\"dataframe\">\n",
       "  <thead>\n",
       "    <tr style=\"text-align: right;\">\n",
       "      <th></th>\n",
       "      <th>Title</th>\n",
       "      <th>Year</th>\n",
       "    </tr>\n",
       "  </thead>\n",
       "  <tbody>\n",
       "    <tr>\n",
       "      <th>555</th>\n",
       "      <td>Dances with Wolves</td>\n",
       "      <td>1990</td>\n",
       "    </tr>\n",
       "    <tr>\n",
       "      <th>1177</th>\n",
       "      <td>American Beauty</td>\n",
       "      <td>1999</td>\n",
       "    </tr>\n",
       "    <tr>\n",
       "      <th>1079</th>\n",
       "      <td>Holy Man</td>\n",
       "      <td>1998</td>\n",
       "    </tr>\n",
       "    <tr>\n",
       "      <th>424</th>\n",
       "      <td>The Color Purple</td>\n",
       "      <td>1985</td>\n",
       "    </tr>\n",
       "    <tr>\n",
       "      <th>451</th>\n",
       "      <td>The Golden Child</td>\n",
       "      <td>1986</td>\n",
       "    </tr>\n",
       "  </tbody>\n",
       "</table>\n",
       "</div>"
      ],
      "text/plain": [
       "                    Title  Year\n",
       "555   Dances with Wolves   1990\n",
       "1177     American Beauty   1999\n",
       "1079            Holy Man   1998\n",
       "424     The Color Purple   1985\n",
       "451     The Golden Child   1986"
      ]
     },
     "execution_count": 10,
     "metadata": {},
     "output_type": "execute_result"
    }
   ],
   "source": [
    "excel_df[['Title', 'Year']].sample(n=5)"
   ]
  },
  {
   "cell_type": "code",
   "execution_count": 13,
   "metadata": {
    "slideshow": {
     "slide_type": "subslide"
    }
   },
   "outputs": [
    {
     "data": {
      "text/html": [
       "<div>\n",
       "<style scoped>\n",
       "    .dataframe tbody tr th:only-of-type {\n",
       "        vertical-align: middle;\n",
       "    }\n",
       "\n",
       "    .dataframe tbody tr th {\n",
       "        vertical-align: top;\n",
       "    }\n",
       "\n",
       "    .dataframe thead th {\n",
       "        text-align: right;\n",
       "    }\n",
       "</style>\n",
       "<table border=\"1\" class=\"dataframe\">\n",
       "  <thead>\n",
       "    <tr style=\"text-align: right;\">\n",
       "      <th></th>\n",
       "      <th>Title</th>\n",
       "      <th>Year</th>\n",
       "    </tr>\n",
       "  </thead>\n",
       "  <tbody>\n",
       "    <tr>\n",
       "      <th>1057</th>\n",
       "      <td>Chairman of the Board</td>\n",
       "      <td>1998</td>\n",
       "    </tr>\n",
       "    <tr>\n",
       "      <th>1190</th>\n",
       "      <td>Being John Malkovich</td>\n",
       "      <td>1999</td>\n",
       "    </tr>\n",
       "    <tr>\n",
       "      <th>498</th>\n",
       "      <td>Dangerous Liaisons</td>\n",
       "      <td>1988</td>\n",
       "    </tr>\n",
       "    <tr>\n",
       "      <th>1292</th>\n",
       "      <td>The Astronaut's Wife</td>\n",
       "      <td>1999</td>\n",
       "    </tr>\n",
       "    <tr>\n",
       "      <th>1102</th>\n",
       "      <td>One True Thing</td>\n",
       "      <td>1998</td>\n",
       "    </tr>\n",
       "  </tbody>\n",
       "</table>\n",
       "</div>"
      ],
      "text/plain": [
       "                       Title  Year\n",
       "1057  Chairman of the Board   1998\n",
       "1190   Being John Malkovich   1999\n",
       "498      Dangerous Liaisons   1988\n",
       "1292   The Astronaut's Wife   1999\n",
       "1102         One True Thing   1998"
      ]
     },
     "execution_count": 13,
     "metadata": {},
     "output_type": "execute_result"
    }
   ],
   "source": [
    "# It might help to see that the code below is functionally identical...\n",
    "\n",
    "columns_to_select = ['Title', 'Year']\n",
    "excel_df[columns_to_select].sample(n=5)"
   ]
  },
  {
   "cell_type": "markdown",
   "metadata": {
    "slideshow": {
     "slide_type": "slide"
    }
   },
   "source": [
    "## [Q4] Filter the table to just the following columns and show the first 5 rows\n",
    "```python\n",
    "['Title', 'Year', 'Genres', 'Language', 'Country', 'Content Rating', 'Budget', 'IMDB Score']\n",
    "```\n",
    "- Note: You must be explicit, misspelling will give you a `KeyError`\n",
    "- Save the results in the variable `test_df`"
   ]
  },
  {
   "cell_type": "code",
   "execution_count": 15,
   "metadata": {
    "slideshow": {
     "slide_type": "subslide"
    }
   },
   "outputs": [],
   "source": [
    "test_df = excel_df[['Title', 'Year', 'Genres', 'Language', 'Country', 'Content Rating', 'Budget', 'IMDB Score']]"
   ]
  },
  {
   "cell_type": "markdown",
   "metadata": {
    "slideshow": {
     "slide_type": "slide"
    }
   },
   "source": [
    "# How to filter rows in Pandas\n",
    "\n",
    "- If you run the cell below you will see that the selecting of a single column, not a list of columns, looks different...\n",
    "- This is because one column is actually called a `Series` and you can think about it like a vertical list\n",
    "- When you break it down, a DataFrame is just a group of `Series` columns behind the scenes"
   ]
  },
  {
   "cell_type": "code",
   "execution_count": 16,
   "metadata": {},
   "outputs": [
    {
     "data": {
      "text/html": [
       "<div>\n",
       "<style scoped>\n",
       "    .dataframe tbody tr th:only-of-type {\n",
       "        vertical-align: middle;\n",
       "    }\n",
       "\n",
       "    .dataframe tbody tr th {\n",
       "        vertical-align: top;\n",
       "    }\n",
       "\n",
       "    .dataframe thead th {\n",
       "        text-align: right;\n",
       "    }\n",
       "</style>\n",
       "<table border=\"1\" class=\"dataframe\">\n",
       "  <thead>\n",
       "    <tr style=\"text-align: right;\">\n",
       "      <th></th>\n",
       "      <th>Title</th>\n",
       "      <th>Year</th>\n",
       "      <th>Genres</th>\n",
       "      <th>Language</th>\n",
       "      <th>Country</th>\n",
       "      <th>Content Rating</th>\n",
       "      <th>Budget</th>\n",
       "      <th>IMDB Score</th>\n",
       "    </tr>\n",
       "  </thead>\n",
       "  <tbody>\n",
       "    <tr>\n",
       "      <th>0</th>\n",
       "      <td>Intolerance: Love's Struggle Throughout the Ages</td>\n",
       "      <td>1916</td>\n",
       "      <td>Drama|History|War</td>\n",
       "      <td>NaN</td>\n",
       "      <td>USA</td>\n",
       "      <td>Not Rated</td>\n",
       "      <td>385907.0</td>\n",
       "      <td>8.0</td>\n",
       "    </tr>\n",
       "    <tr>\n",
       "      <th>1</th>\n",
       "      <td>Over the Hill to the Poorhouse</td>\n",
       "      <td>1920</td>\n",
       "      <td>Crime|Drama</td>\n",
       "      <td>NaN</td>\n",
       "      <td>USA</td>\n",
       "      <td>NaN</td>\n",
       "      <td>100000.0</td>\n",
       "      <td>4.8</td>\n",
       "    </tr>\n",
       "    <tr>\n",
       "      <th>2</th>\n",
       "      <td>The Big Parade</td>\n",
       "      <td>1925</td>\n",
       "      <td>Drama|Romance|War</td>\n",
       "      <td>NaN</td>\n",
       "      <td>USA</td>\n",
       "      <td>Not Rated</td>\n",
       "      <td>245000.0</td>\n",
       "      <td>8.3</td>\n",
       "    </tr>\n",
       "    <tr>\n",
       "      <th>3</th>\n",
       "      <td>Metropolis</td>\n",
       "      <td>1927</td>\n",
       "      <td>Drama|Sci-Fi</td>\n",
       "      <td>German</td>\n",
       "      <td>Germany</td>\n",
       "      <td>Not Rated</td>\n",
       "      <td>6000000.0</td>\n",
       "      <td>8.3</td>\n",
       "    </tr>\n",
       "    <tr>\n",
       "      <th>4</th>\n",
       "      <td>Pandora's Box</td>\n",
       "      <td>1929</td>\n",
       "      <td>Crime|Drama|Romance</td>\n",
       "      <td>German</td>\n",
       "      <td>Germany</td>\n",
       "      <td>Not Rated</td>\n",
       "      <td>NaN</td>\n",
       "      <td>8.0</td>\n",
       "    </tr>\n",
       "    <tr>\n",
       "      <th>...</th>\n",
       "      <td>...</td>\n",
       "      <td>...</td>\n",
       "      <td>...</td>\n",
       "      <td>...</td>\n",
       "      <td>...</td>\n",
       "      <td>...</td>\n",
       "      <td>...</td>\n",
       "      <td>...</td>\n",
       "    </tr>\n",
       "    <tr>\n",
       "      <th>1333</th>\n",
       "      <td>Twin Falls Idaho</td>\n",
       "      <td>1999</td>\n",
       "      <td>Drama</td>\n",
       "      <td>English</td>\n",
       "      <td>USA</td>\n",
       "      <td>R</td>\n",
       "      <td>500000.0</td>\n",
       "      <td>7.3</td>\n",
       "    </tr>\n",
       "    <tr>\n",
       "      <th>1334</th>\n",
       "      <td>Universal Soldier: The Return</td>\n",
       "      <td>1999</td>\n",
       "      <td>Action|Sci-Fi</td>\n",
       "      <td>English</td>\n",
       "      <td>USA</td>\n",
       "      <td>R</td>\n",
       "      <td>24000000.0</td>\n",
       "      <td>4.1</td>\n",
       "    </tr>\n",
       "    <tr>\n",
       "      <th>1335</th>\n",
       "      <td>Varsity Blues</td>\n",
       "      <td>1999</td>\n",
       "      <td>Comedy|Drama|Romance|Sport</td>\n",
       "      <td>English</td>\n",
       "      <td>USA</td>\n",
       "      <td>R</td>\n",
       "      <td>16000000.0</td>\n",
       "      <td>6.4</td>\n",
       "    </tr>\n",
       "    <tr>\n",
       "      <th>1336</th>\n",
       "      <td>Wild Wild West</td>\n",
       "      <td>1999</td>\n",
       "      <td>Action|Comedy|Sci-Fi|Western</td>\n",
       "      <td>English</td>\n",
       "      <td>USA</td>\n",
       "      <td>PG-13</td>\n",
       "      <td>170000000.0</td>\n",
       "      <td>4.8</td>\n",
       "    </tr>\n",
       "    <tr>\n",
       "      <th>1337</th>\n",
       "      <td>Wing Commander</td>\n",
       "      <td>1999</td>\n",
       "      <td>Action|Adventure|Sci-Fi</td>\n",
       "      <td>English</td>\n",
       "      <td>USA</td>\n",
       "      <td>PG-13</td>\n",
       "      <td>30000000.0</td>\n",
       "      <td>4.1</td>\n",
       "    </tr>\n",
       "  </tbody>\n",
       "</table>\n",
       "<p>1338 rows × 8 columns</p>\n",
       "</div>"
      ],
      "text/plain": [
       "                                                  Title  Year  \\\n",
       "0     Intolerance: Love's Struggle Throughout the Ages   1916   \n",
       "1                       Over the Hill to the Poorhouse   1920   \n",
       "2                                       The Big Parade   1925   \n",
       "3                                           Metropolis   1927   \n",
       "4                                        Pandora's Box   1929   \n",
       "...                                                 ...   ...   \n",
       "1333                                  Twin Falls Idaho   1999   \n",
       "1334                     Universal Soldier: The Return   1999   \n",
       "1335                                     Varsity Blues   1999   \n",
       "1336                                    Wild Wild West   1999   \n",
       "1337                                    Wing Commander   1999   \n",
       "\n",
       "                            Genres Language  Country Content Rating  \\\n",
       "0                Drama|History|War      NaN      USA      Not Rated   \n",
       "1                      Crime|Drama      NaN      USA            NaN   \n",
       "2                Drama|Romance|War      NaN      USA      Not Rated   \n",
       "3                     Drama|Sci-Fi   German  Germany      Not Rated   \n",
       "4              Crime|Drama|Romance   German  Germany      Not Rated   \n",
       "...                            ...      ...      ...            ...   \n",
       "1333                         Drama  English      USA              R   \n",
       "1334                 Action|Sci-Fi  English      USA              R   \n",
       "1335    Comedy|Drama|Romance|Sport  English      USA              R   \n",
       "1336  Action|Comedy|Sci-Fi|Western  English      USA          PG-13   \n",
       "1337       Action|Adventure|Sci-Fi  English      USA          PG-13   \n",
       "\n",
       "           Budget  IMDB Score  \n",
       "0        385907.0         8.0  \n",
       "1        100000.0         4.8  \n",
       "2        245000.0         8.3  \n",
       "3       6000000.0         8.3  \n",
       "4             NaN         8.0  \n",
       "...           ...         ...  \n",
       "1333     500000.0         7.3  \n",
       "1334   24000000.0         4.1  \n",
       "1335   16000000.0         6.4  \n",
       "1336  170000000.0         4.8  \n",
       "1337   30000000.0         4.1  \n",
       "\n",
       "[1338 rows x 8 columns]"
      ]
     },
     "execution_count": 16,
     "metadata": {},
     "output_type": "execute_result"
    }
   ],
   "source": [
    "test_df"
   ]
  },
  {
   "cell_type": "code",
   "execution_count": 17,
   "metadata": {
    "slideshow": {
     "slide_type": "subslide"
    }
   },
   "outputs": [
    {
     "data": {
      "text/plain": [
       "0       1916\n",
       "1       1920\n",
       "2       1925\n",
       "3       1927\n",
       "4       1929\n",
       "        ... \n",
       "1333    1999\n",
       "1334    1999\n",
       "1335    1999\n",
       "1336    1999\n",
       "1337    1999\n",
       "Name: Year, Length: 1338, dtype: int64"
      ]
     },
     "execution_count": 17,
     "metadata": {},
     "output_type": "execute_result"
    }
   ],
   "source": [
    "test_df['Year']"
   ]
  },
  {
   "cell_type": "markdown",
   "metadata": {
    "slideshow": {
     "slide_type": "subslide"
    }
   },
   "source": [
    "- When you do a comparison against a `Series`, Pandas will compare every item and return `True` or `False` against every row "
   ]
  },
  {
   "cell_type": "code",
   "execution_count": 18,
   "metadata": {
    "slideshow": {
     "slide_type": "subslide"
    }
   },
   "outputs": [
    {
     "data": {
      "text/plain": [
       "0       False\n",
       "1        True\n",
       "2       False\n",
       "3       False\n",
       "4       False\n",
       "        ...  \n",
       "1333    False\n",
       "1334    False\n",
       "1335    False\n",
       "1336    False\n",
       "1337    False\n",
       "Name: Year, Length: 1338, dtype: bool"
      ]
     },
     "execution_count": 18,
     "metadata": {},
     "output_type": "execute_result"
    }
   ],
   "source": [
    "test_df['Year'] == 1920"
   ]
  },
  {
   "cell_type": "markdown",
   "metadata": {
    "slideshow": {
     "slide_type": "subslide"
    }
   },
   "source": [
    "- When you put this within the square brackets of a DataFrame, Pandas will filter to the rows which were `True`\n",
    "\n",
    "## [Q5] Filter the `test_df` to rows where the IMDB Score is greater than 5"
   ]
  },
  {
   "cell_type": "code",
   "execution_count": null,
   "metadata": {
    "slideshow": {
     "slide_type": "subslide"
    }
   },
   "outputs": [],
   "source": []
  },
  {
   "cell_type": "markdown",
   "metadata": {
    "slideshow": {
     "slide_type": "subslide"
    }
   },
   "source": [
    "## [Q6] Filter the `test_df` to films from the USA"
   ]
  },
  {
   "cell_type": "code",
   "execution_count": null,
   "metadata": {
    "slideshow": {
     "slide_type": "subslide"
    }
   },
   "outputs": [],
   "source": [
    "\n"
   ]
  },
  {
   "cell_type": "code",
   "execution_count": 23,
   "metadata": {
    "slideshow": {
     "slide_type": "subslide"
    }
   },
   "outputs": [
    {
     "name": "stdout",
     "output_type": "stream",
     "text": [
      "0           USA\n",
      "1           USA\n",
      "2           USA\n",
      "3       Germany\n",
      "4       Germany\n",
      "         ...   \n",
      "1333        USA\n",
      "1334        USA\n",
      "1335        USA\n",
      "1336        USA\n",
      "1337        USA\n",
      "Name: Country, Length: 1338, dtype: object\n",
      "0        True\n",
      "1        True\n",
      "2        True\n",
      "3       False\n",
      "4       False\n",
      "        ...  \n",
      "1333     True\n",
      "1334     True\n",
      "1335     True\n",
      "1336     True\n",
      "1337     True\n",
      "Name: Country, Length: 1338, dtype: bool\n"
     ]
    }
   ],
   "source": [
    "# another cool example \n",
    "\n",
    "# reset test_df first\n",
    "test_df = excel_df[['Title', 'Year', 'Genres', 'Language', 'Country', 'Content Rating', 'Budget', 'IMDB Score']]\n",
    "\n",
    "print(test_df[\"Country\"])\n",
    "\n",
    "condition_1 = (test_df['Country'] == 'USA')\n",
    "condition_2 = (test_df['Country'] == 'UK')\n",
    "condition_3 = (test_df['Country'] == 'Germany')\n",
    "\n",
    "test_df= condition_1 | condition_2\n",
    "\n",
    "print(test_df)"
   ]
  },
  {
   "cell_type": "markdown",
   "metadata": {
    "slideshow": {
     "slide_type": "slide"
    }
   },
   "source": [
    "## You can use the following operators to combine conditions:\n",
    "- `&` to AND conditions together, e.g. The can was GREEN and CLOSED \n",
    "- `|` to OR conditions together, e.g. The person was from England or France (either is fine)\n",
    "- `~` to NEGATE any condition, e.g. The person was not from London\n",
    "- It's also useful to put conditions in brackets `(`to make sure things working in the right order`)`\n",
    "\n",
    "For example you could filter a `DataFrame` like so:\n",
    "\n",
    "`df[(df['age'] >= 18) & (df['height'] < 200)]`\n"
   ]
  },
  {
   "cell_type": "code",
   "execution_count": 26,
   "metadata": {
    "slideshow": {
     "slide_type": "subslide"
    }
   },
   "outputs": [
    {
     "data": {
      "text/html": [
       "<div>\n",
       "<style scoped>\n",
       "    .dataframe tbody tr th:only-of-type {\n",
       "        vertical-align: middle;\n",
       "    }\n",
       "\n",
       "    .dataframe tbody tr th {\n",
       "        vertical-align: top;\n",
       "    }\n",
       "\n",
       "    .dataframe thead th {\n",
       "        text-align: right;\n",
       "    }\n",
       "</style>\n",
       "<table border=\"1\" class=\"dataframe\">\n",
       "  <thead>\n",
       "    <tr style=\"text-align: right;\">\n",
       "      <th></th>\n",
       "      <th>Title</th>\n",
       "      <th>Year</th>\n",
       "      <th>Genres</th>\n",
       "      <th>Language</th>\n",
       "      <th>Country</th>\n",
       "      <th>Content Rating</th>\n",
       "      <th>Budget</th>\n",
       "      <th>IMDB Score</th>\n",
       "    </tr>\n",
       "  </thead>\n",
       "  <tbody>\n",
       "    <tr>\n",
       "      <th>1</th>\n",
       "      <td>Over the Hill to the Poorhouse</td>\n",
       "      <td>1920</td>\n",
       "      <td>Crime|Drama</td>\n",
       "      <td>NaN</td>\n",
       "      <td>USA</td>\n",
       "      <td>NaN</td>\n",
       "      <td>100000.0</td>\n",
       "      <td>4.8</td>\n",
       "    </tr>\n",
       "    <tr>\n",
       "      <th>2</th>\n",
       "      <td>The Big Parade</td>\n",
       "      <td>1925</td>\n",
       "      <td>Drama|Romance|War</td>\n",
       "      <td>NaN</td>\n",
       "      <td>USA</td>\n",
       "      <td>Not Rated</td>\n",
       "      <td>245000.0</td>\n",
       "      <td>8.3</td>\n",
       "    </tr>\n",
       "    <tr>\n",
       "      <th>3</th>\n",
       "      <td>Metropolis</td>\n",
       "      <td>1927</td>\n",
       "      <td>Drama|Sci-Fi</td>\n",
       "      <td>German</td>\n",
       "      <td>Germany</td>\n",
       "      <td>Not Rated</td>\n",
       "      <td>6000000.0</td>\n",
       "      <td>8.3</td>\n",
       "    </tr>\n",
       "    <tr>\n",
       "      <th>4</th>\n",
       "      <td>Pandora's Box</td>\n",
       "      <td>1929</td>\n",
       "      <td>Crime|Drama|Romance</td>\n",
       "      <td>German</td>\n",
       "      <td>Germany</td>\n",
       "      <td>Not Rated</td>\n",
       "      <td>NaN</td>\n",
       "      <td>8.0</td>\n",
       "    </tr>\n",
       "    <tr>\n",
       "      <th>5</th>\n",
       "      <td>The Broadway Melody</td>\n",
       "      <td>1929</td>\n",
       "      <td>Musical|Romance</td>\n",
       "      <td>English</td>\n",
       "      <td>USA</td>\n",
       "      <td>Passed</td>\n",
       "      <td>379000.0</td>\n",
       "      <td>6.3</td>\n",
       "    </tr>\n",
       "  </tbody>\n",
       "</table>\n",
       "</div>"
      ],
      "text/plain": [
       "                             Title  Year               Genres Language  \\\n",
       "1  Over the Hill to the Poorhouse   1920          Crime|Drama      NaN   \n",
       "2                  The Big Parade   1925    Drama|Romance|War      NaN   \n",
       "3                      Metropolis   1927         Drama|Sci-Fi   German   \n",
       "4                   Pandora's Box   1929  Crime|Drama|Romance   German   \n",
       "5             The Broadway Melody   1929      Musical|Romance  English   \n",
       "\n",
       "   Country Content Rating     Budget  IMDB Score  \n",
       "1      USA            NaN   100000.0         4.8  \n",
       "2      USA      Not Rated   245000.0         8.3  \n",
       "3  Germany      Not Rated  6000000.0         8.3  \n",
       "4  Germany      Not Rated        NaN         8.0  \n",
       "5      USA         Passed   379000.0         6.3  "
      ]
     },
     "execution_count": 26,
     "metadata": {},
     "output_type": "execute_result"
    }
   ],
   "source": [
    "# This one is a little harder...\n",
    "## [Q7] Filter the test_df to films which were made in the 1920s\n",
    "\n",
    "# Reset dataframe\n",
    "\n",
    "test_df = excel_df[['Title', 'Year', 'Genres', 'Language', 'Country', 'Content Rating', 'Budget', 'IMDB Score']]\n",
    "\n",
    "\n",
    "test_df[(test_df['Year'] >= 1920) & (test_df['Year'] <= 1929)]\n",
    "\n"
   ]
  },
  {
   "cell_type": "markdown",
   "metadata": {
    "slideshow": {
     "slide_type": "slide"
    }
   },
   "source": [
    "## Getting a sense of the data you have to work with\n",
    "If you ever want to just get a numeric sense of the data in your `DataFrame` the `describe()` function is built for you!"
   ]
  },
  {
   "cell_type": "code",
   "execution_count": 27,
   "metadata": {
    "slideshow": {
     "slide_type": "subslide"
    }
   },
   "outputs": [
    {
     "data": {
      "text/html": [
       "<div>\n",
       "<style scoped>\n",
       "    .dataframe tbody tr th:only-of-type {\n",
       "        vertical-align: middle;\n",
       "    }\n",
       "\n",
       "    .dataframe tbody tr th {\n",
       "        vertical-align: top;\n",
       "    }\n",
       "\n",
       "    .dataframe thead th {\n",
       "        text-align: right;\n",
       "    }\n",
       "</style>\n",
       "<table border=\"1\" class=\"dataframe\">\n",
       "  <thead>\n",
       "    <tr style=\"text-align: right;\">\n",
       "      <th></th>\n",
       "      <th>Year</th>\n",
       "      <th>Budget</th>\n",
       "      <th>IMDB Score</th>\n",
       "    </tr>\n",
       "  </thead>\n",
       "  <tbody>\n",
       "    <tr>\n",
       "      <th>count</th>\n",
       "      <td>1338.000000</td>\n",
       "      <td>1.281000e+03</td>\n",
       "      <td>1338.000000</td>\n",
       "    </tr>\n",
       "    <tr>\n",
       "      <th>mean</th>\n",
       "      <td>1987.289985</td>\n",
       "      <td>2.712064e+07</td>\n",
       "      <td>6.702167</td>\n",
       "    </tr>\n",
       "    <tr>\n",
       "      <th>std</th>\n",
       "      <td>14.124870</td>\n",
       "      <td>8.466937e+07</td>\n",
       "      <td>1.066497</td>\n",
       "    </tr>\n",
       "    <tr>\n",
       "      <th>min</th>\n",
       "      <td>1916.000000</td>\n",
       "      <td>7.000000e+03</td>\n",
       "      <td>2.300000</td>\n",
       "    </tr>\n",
       "    <tr>\n",
       "      <th>25%</th>\n",
       "      <td>1982.000000</td>\n",
       "      <td>4.000000e+06</td>\n",
       "      <td>6.100000</td>\n",
       "    </tr>\n",
       "    <tr>\n",
       "      <th>50%</th>\n",
       "      <td>1993.000000</td>\n",
       "      <td>1.400000e+07</td>\n",
       "      <td>6.800000</td>\n",
       "    </tr>\n",
       "    <tr>\n",
       "      <th>75%</th>\n",
       "      <td>1997.000000</td>\n",
       "      <td>3.300000e+07</td>\n",
       "      <td>7.400000</td>\n",
       "    </tr>\n",
       "    <tr>\n",
       "      <th>max</th>\n",
       "      <td>1999.000000</td>\n",
       "      <td>2.400000e+09</td>\n",
       "      <td>9.300000</td>\n",
       "    </tr>\n",
       "  </tbody>\n",
       "</table>\n",
       "</div>"
      ],
      "text/plain": [
       "              Year        Budget   IMDB Score\n",
       "count  1338.000000  1.281000e+03  1338.000000\n",
       "mean   1987.289985  2.712064e+07     6.702167\n",
       "std      14.124870  8.466937e+07     1.066497\n",
       "min    1916.000000  7.000000e+03     2.300000\n",
       "25%    1982.000000  4.000000e+06     6.100000\n",
       "50%    1993.000000  1.400000e+07     6.800000\n",
       "75%    1997.000000  3.300000e+07     7.400000\n",
       "max    1999.000000  2.400000e+09     9.300000"
      ]
     },
     "execution_count": 27,
     "metadata": {},
     "output_type": "execute_result"
    }
   ],
   "source": [
    "test_df.describe()"
   ]
  },
  {
   "cell_type": "markdown",
   "metadata": {
    "slideshow": {
     "slide_type": "slide"
    }
   },
   "source": [
    "# Let's take a second to recap\n",
    "\n",
    "What you've learnt so far:\n",
    "- Pandas is a library that comes with lots of built-in tools for working with data\n",
    "- It provides several ways of previewing the data you are working with\n",
    "- You can filter columns by passing a sequence of column names\n",
    "- You can filter rows by applying conditions"
   ]
  },
  {
   "cell_type": "code",
   "execution_count": 1,
   "metadata": {
    "slideshow": {
     "slide_type": "subslide"
    }
   },
   "outputs": [
    {
     "ename": "NameError",
     "evalue": "name 'excel_df' is not defined",
     "output_type": "error",
     "traceback": [
      "\u001b[0;31m---------------------------------------------------------------------------\u001b[0m",
      "\u001b[0;31mNameError\u001b[0m                                 Traceback (most recent call last)",
      "\u001b[0;32m/var/folders/55/d05nk2vd6f3byghbjrsmsf4r0000gn/T/ipykernel_27579/3934810699.py\u001b[0m in \u001b[0;36m<module>\u001b[0;34m\u001b[0m\n\u001b[1;32m      1\u001b[0m \u001b[0;31m# If we filter the original data to the following set we can see we are left with 44 rows and 25 columns\u001b[0m\u001b[0;34m\u001b[0m\u001b[0;34m\u001b[0m\u001b[0;34m\u001b[0m\u001b[0m\n\u001b[1;32m      2\u001b[0m \u001b[0;34m\u001b[0m\u001b[0m\n\u001b[0;32m----> 3\u001b[0;31m \u001b[0mfirst_half_century_df\u001b[0m \u001b[0;34m=\u001b[0m \u001b[0mexcel_df\u001b[0m\u001b[0;34m[\u001b[0m\u001b[0mexcel_df\u001b[0m\u001b[0;34m.\u001b[0m\u001b[0mYear\u001b[0m \u001b[0;34m<\u001b[0m \u001b[0;36m1950\u001b[0m\u001b[0;34m]\u001b[0m\u001b[0;34m\u001b[0m\u001b[0;34m\u001b[0m\u001b[0m\n\u001b[0m\u001b[1;32m      4\u001b[0m \u001b[0mfirst_half_century_df\u001b[0m\u001b[0;34m.\u001b[0m\u001b[0mshape\u001b[0m\u001b[0;34m\u001b[0m\u001b[0;34m\u001b[0m\u001b[0m\n",
      "\u001b[0;31mNameError\u001b[0m: name 'excel_df' is not defined"
     ]
    }
   ],
   "source": [
    "# If we filter the original data to the following set we can see we are left with 44 rows and 25 columns\n",
    "\n",
    "first_half_century_df = excel_df[excel_df.Year < 1950]\n",
    "first_half_century_df.shape"
   ]
  },
  {
   "cell_type": "markdown",
   "metadata": {
    "slideshow": {
     "slide_type": "slide"
    }
   },
   "source": [
    "## [Q8] What was the mean budget of movies produced before 1950\n",
    "\n",
    "- With the filtered `first_half_century_df`, work out the mean budget \n",
    "> (Hint: Use the Budget column itself)"
   ]
  },
  {
   "cell_type": "code",
   "execution_count": 1,
   "metadata": {
    "slideshow": {
     "slide_type": "subslide"
    }
   },
   "outputs": [
    {
     "ename": "NameError",
     "evalue": "name 'excel_df' is not defined",
     "output_type": "error",
     "traceback": [
      "\u001b[0;31m---------------------------------------------------------------------------\u001b[0m",
      "\u001b[0;31mNameError\u001b[0m                                 Traceback (most recent call last)",
      "\u001b[0;32m/var/folders/55/d05nk2vd6f3byghbjrsmsf4r0000gn/T/ipykernel_27615/2202583363.py\u001b[0m in \u001b[0;36m<module>\u001b[0;34m\u001b[0m\n\u001b[0;32m----> 1\u001b[0;31m \u001b[0mexcel_df\u001b[0m\u001b[0;34m.\u001b[0m\u001b[0mcolumns\u001b[0m\u001b[0;34m\u001b[0m\u001b[0;34m\u001b[0m\u001b[0m\n\u001b[0m\u001b[1;32m      2\u001b[0m \u001b[0;34m\u001b[0m\u001b[0m\n\u001b[1;32m      3\u001b[0m \u001b[0mbudget\u001b[0m \u001b[0;34m=\u001b[0m \u001b[0mfirst_half_century_df\u001b[0m\u001b[0;34m[\u001b[0m\u001b[0;34m'Budget'\u001b[0m\u001b[0;34m]\u001b[0m\u001b[0;34m\u001b[0m\u001b[0;34m\u001b[0m\u001b[0m\n\u001b[1;32m      4\u001b[0m \u001b[0;34m\u001b[0m\u001b[0m\n\u001b[1;32m      5\u001b[0m \u001b[0mformat\u001b[0m\u001b[0;34m(\u001b[0m\u001b[0mbudget\u001b[0m\u001b[0;34m.\u001b[0m\u001b[0mmean\u001b[0m\u001b[0;34m(\u001b[0m\u001b[0;34m)\u001b[0m\u001b[0;34m,\u001b[0m \u001b[0;34m','\u001b[0m\u001b[0;34m)\u001b[0m\u001b[0;34m\u001b[0m\u001b[0;34m\u001b[0m\u001b[0m\n",
      "\u001b[0;31mNameError\u001b[0m: name 'excel_df' is not defined"
     ]
    }
   ],
   "source": [
    "excel_df.columns\n",
    "\n",
    "budget = first_half_century_df['Budget']\n",
    "\n",
    "format(budget.mean(), ',')"
   ]
  },
  {
   "cell_type": "markdown",
   "metadata": {
    "slideshow": {
     "slide_type": "slide"
    }
   },
   "source": [
    "## [Q9] What was the minimum budget of movies produced before 1950"
   ]
  },
  {
   "cell_type": "code",
   "execution_count": 37,
   "metadata": {
    "slideshow": {
     "slide_type": "subslide"
    }
   },
   "outputs": [
    {
     "data": {
      "text/plain": [
       "100000.0"
      ]
     },
     "execution_count": 37,
     "metadata": {},
     "output_type": "execute_result"
    }
   ],
   "source": [
    "budget.min()"
   ]
  },
  {
   "cell_type": "markdown",
   "metadata": {
    "slideshow": {
     "slide_type": "slide"
    }
   },
   "source": [
    "## [Q10] What was the maximum budget of movies produced before 1950"
   ]
  },
  {
   "cell_type": "code",
   "execution_count": null,
   "metadata": {
    "slideshow": {
     "slide_type": "subslide"
    }
   },
   "outputs": [],
   "source": []
  },
  {
   "cell_type": "markdown",
   "metadata": {
    "slideshow": {
     "slide_type": "slide"
    }
   },
   "source": [
    "## Let's have a look at how we can write csv files with Pandas!\n",
    "\n",
    "\n",
    "<img src=\"data/images/apple-stock.jpg\" style=\"width: 200px;\"/>\n",
    "\n",
    " - We are going to use a finance API to fetch stock prices for Apple (from internet)\n",
    " - Then we are going to write fetched data to a CSV\n",
    " - Finally, we are goin to learn how to read a CSV file."
   ]
  },
  {
   "cell_type": "markdown",
   "metadata": {
    "slideshow": {
     "slide_type": "subslide"
    }
   },
   "source": [
    "## Datareader \n",
    "\n",
    "\n",
    "<img src=\"data/images/datareader.jpg\" style=\"width: 500px;\"/>\n",
    "\n",
    "\n",
    "- The Pandas datareader is a sub package that allows one to create a dataframe from various IN-BUILT internet datasources\n",
    "- We can fetch historical stock prices, quotes etc from various world exchanges without specifically going to their urls. \n",
    "\n",
    "Heres is  list of in-built datareaders: https://pandas-datareader.readthedocs.io/en/latest/readers/index.html\n"
   ]
  },
  {
   "cell_type": "code",
   "execution_count": 45,
   "metadata": {
    "scrolled": true,
    "slideshow": {
     "slide_type": "subslide"
    }
   },
   "outputs": [
    {
     "name": "stdout",
     "output_type": "stream",
     "text": [
      "                  High         Low        Open       Close       Volume  \\\n",
      "Date                                                                      \n",
      "2020-10-01  117.720001  115.830002  117.639999  116.790001  116120400.0   \n",
      "2020-10-02  115.370003  112.220001  112.889999  113.019997  144712000.0   \n",
      "2020-10-05  116.650002  113.550003  113.910004  116.500000  106243800.0   \n",
      "2020-10-06  116.120003  112.250000  115.699997  113.160004  161498200.0   \n",
      "2020-10-07  115.550003  114.129997  114.620003  115.080002   96849000.0   \n",
      "...                ...         ...         ...         ...          ...   \n",
      "2021-06-25  133.889999  132.809998  133.460007  133.110001   70783700.0   \n",
      "2021-06-28  135.250000  133.350006  133.410004  134.779999   62111300.0   \n",
      "2021-06-29  136.490005  134.350006  134.800003  136.330002   64556100.0   \n",
      "2021-06-30  137.410004  135.869995  136.169998  136.960007   63261400.0   \n",
      "2021-07-01  137.330002  135.759995  136.600006  137.270004   52485800.0   \n",
      "\n",
      "             Adj Close  \n",
      "Date                    \n",
      "2020-10-01  115.874504  \n",
      "2020-10-02  112.134064  \n",
      "2020-10-05  115.586784  \n",
      "2020-10-06  112.272972  \n",
      "2020-10-07  114.177917  \n",
      "...                ...  \n",
      "2021-06-25  132.717178  \n",
      "2021-06-28  134.382233  \n",
      "2021-06-29  135.927658  \n",
      "2021-06-30  136.555817  \n",
      "2021-07-01  136.864899  \n",
      "\n",
      "[189 rows x 6 columns]\n"
     ]
    }
   ],
   "source": [
    "import pandas_datareader as pdr\n",
    "\n",
    "\n",
    "# Try this example, BUT Yahoo Finance has known bugs, so it may not work (their end, theif fault), \n",
    "# so we may need to try option 2\n",
    "\n",
    "import datetime \n",
    "aapl = pdr.get_data_yahoo('AAPL', \n",
    "                          start=datetime.datetime(2020, 10, 1), \n",
    "                          end=datetime.datetime(2021, 7, 1))\n",
    "print(aapl)\n",
    "\n",
    "\n"
   ]
  },
  {
   "cell_type": "code",
   "execution_count": 46,
   "metadata": {
    "slideshow": {
     "slide_type": "subslide"
    }
   },
   "outputs": [
    {
     "name": "stderr",
     "output_type": "stream",
     "text": [
      "/Library/Frameworks/Python.framework/Versions/3.7/lib/python3.7/site-packages/pandas_datareader/tiingo.py:234: FutureWarning: In a future version of pandas all arguments of concat except for the argument 'objs' will be keyword-only\n",
      "  return pd.concat(dfs, self._concat_axis)\n"
     ]
    },
    {
     "data": {
      "text/html": [
       "<div>\n",
       "<style scoped>\n",
       "    .dataframe tbody tr th:only-of-type {\n",
       "        vertical-align: middle;\n",
       "    }\n",
       "\n",
       "    .dataframe tbody tr th {\n",
       "        vertical-align: top;\n",
       "    }\n",
       "\n",
       "    .dataframe thead th {\n",
       "        text-align: right;\n",
       "    }\n",
       "</style>\n",
       "<table border=\"1\" class=\"dataframe\">\n",
       "  <thead>\n",
       "    <tr style=\"text-align: right;\">\n",
       "      <th></th>\n",
       "      <th></th>\n",
       "      <th>close</th>\n",
       "      <th>high</th>\n",
       "      <th>low</th>\n",
       "      <th>open</th>\n",
       "      <th>volume</th>\n",
       "      <th>adjClose</th>\n",
       "      <th>adjHigh</th>\n",
       "      <th>adjLow</th>\n",
       "      <th>adjOpen</th>\n",
       "      <th>adjVolume</th>\n",
       "      <th>divCash</th>\n",
       "      <th>splitFactor</th>\n",
       "    </tr>\n",
       "    <tr>\n",
       "      <th>symbol</th>\n",
       "      <th>date</th>\n",
       "      <th></th>\n",
       "      <th></th>\n",
       "      <th></th>\n",
       "      <th></th>\n",
       "      <th></th>\n",
       "      <th></th>\n",
       "      <th></th>\n",
       "      <th></th>\n",
       "      <th></th>\n",
       "      <th></th>\n",
       "      <th></th>\n",
       "      <th></th>\n",
       "    </tr>\n",
       "  </thead>\n",
       "  <tbody>\n",
       "    <tr>\n",
       "      <th rowspan=\"11\" valign=\"top\">AAPL</th>\n",
       "      <th>2020-01-02 00:00:00+00:00</th>\n",
       "      <td>300.35</td>\n",
       "      <td>300.600</td>\n",
       "      <td>295.19</td>\n",
       "      <td>296.24</td>\n",
       "      <td>33911864</td>\n",
       "      <td>73.987632</td>\n",
       "      <td>74.049217</td>\n",
       "      <td>72.716528</td>\n",
       "      <td>72.975183</td>\n",
       "      <td>135647456</td>\n",
       "      <td>0.0</td>\n",
       "      <td>1.0</td>\n",
       "    </tr>\n",
       "    <tr>\n",
       "      <th>2020-01-03 00:00:00+00:00</th>\n",
       "      <td>297.43</td>\n",
       "      <td>300.580</td>\n",
       "      <td>296.50</td>\n",
       "      <td>297.15</td>\n",
       "      <td>36633878</td>\n",
       "      <td>73.268325</td>\n",
       "      <td>74.044290</td>\n",
       "      <td>73.039231</td>\n",
       "      <td>73.199350</td>\n",
       "      <td>146535512</td>\n",
       "      <td>0.0</td>\n",
       "      <td>1.0</td>\n",
       "    </tr>\n",
       "    <tr>\n",
       "      <th>2020-01-06 00:00:00+00:00</th>\n",
       "      <td>299.80</td>\n",
       "      <td>299.960</td>\n",
       "      <td>292.75</td>\n",
       "      <td>293.79</td>\n",
       "      <td>29644644</td>\n",
       "      <td>73.852146</td>\n",
       "      <td>73.891560</td>\n",
       "      <td>72.115463</td>\n",
       "      <td>72.371655</td>\n",
       "      <td>118578576</td>\n",
       "      <td>0.0</td>\n",
       "      <td>1.0</td>\n",
       "    </tr>\n",
       "    <tr>\n",
       "      <th>2020-01-07 00:00:00+00:00</th>\n",
       "      <td>298.39</td>\n",
       "      <td>300.900</td>\n",
       "      <td>297.48</td>\n",
       "      <td>299.84</td>\n",
       "      <td>27877655</td>\n",
       "      <td>73.504810</td>\n",
       "      <td>74.123118</td>\n",
       "      <td>73.280642</td>\n",
       "      <td>73.862000</td>\n",
       "      <td>111510620</td>\n",
       "      <td>0.0</td>\n",
       "      <td>1.0</td>\n",
       "    </tr>\n",
       "    <tr>\n",
       "      <th>2020-01-08 00:00:00+00:00</th>\n",
       "      <td>303.19</td>\n",
       "      <td>304.440</td>\n",
       "      <td>297.16</td>\n",
       "      <td>297.16</td>\n",
       "      <td>33090946</td>\n",
       "      <td>74.687232</td>\n",
       "      <td>74.995155</td>\n",
       "      <td>73.201814</td>\n",
       "      <td>73.201814</td>\n",
       "      <td>132363784</td>\n",
       "      <td>0.0</td>\n",
       "      <td>1.0</td>\n",
       "    </tr>\n",
       "    <tr>\n",
       "      <th>...</th>\n",
       "      <td>...</td>\n",
       "      <td>...</td>\n",
       "      <td>...</td>\n",
       "      <td>...</td>\n",
       "      <td>...</td>\n",
       "      <td>...</td>\n",
       "      <td>...</td>\n",
       "      <td>...</td>\n",
       "      <td>...</td>\n",
       "      <td>...</td>\n",
       "      <td>...</td>\n",
       "      <td>...</td>\n",
       "    </tr>\n",
       "    <tr>\n",
       "      <th>2021-06-25 00:00:00+00:00</th>\n",
       "      <td>133.11</td>\n",
       "      <td>133.890</td>\n",
       "      <td>132.81</td>\n",
       "      <td>133.46</td>\n",
       "      <td>70783746</td>\n",
       "      <td>132.716912</td>\n",
       "      <td>133.494609</td>\n",
       "      <td>132.417798</td>\n",
       "      <td>133.065879</td>\n",
       "      <td>70783746</td>\n",
       "      <td>0.0</td>\n",
       "      <td>1.0</td>\n",
       "    </tr>\n",
       "    <tr>\n",
       "      <th>2021-06-28 00:00:00+00:00</th>\n",
       "      <td>134.78</td>\n",
       "      <td>135.245</td>\n",
       "      <td>133.35</td>\n",
       "      <td>133.41</td>\n",
       "      <td>62111303</td>\n",
       "      <td>134.381980</td>\n",
       "      <td>134.845607</td>\n",
       "      <td>132.956203</td>\n",
       "      <td>133.016026</td>\n",
       "      <td>62111303</td>\n",
       "      <td>0.0</td>\n",
       "      <td>1.0</td>\n",
       "    </tr>\n",
       "    <tr>\n",
       "      <th>2021-06-29 00:00:00+00:00</th>\n",
       "      <td>136.33</td>\n",
       "      <td>136.490</td>\n",
       "      <td>134.35</td>\n",
       "      <td>134.80</td>\n",
       "      <td>64556081</td>\n",
       "      <td>135.927403</td>\n",
       "      <td>136.086931</td>\n",
       "      <td>133.953250</td>\n",
       "      <td>134.401921</td>\n",
       "      <td>64556081</td>\n",
       "      <td>0.0</td>\n",
       "      <td>1.0</td>\n",
       "    </tr>\n",
       "    <tr>\n",
       "      <th>2021-06-30 00:00:00+00:00</th>\n",
       "      <td>136.96</td>\n",
       "      <td>137.410</td>\n",
       "      <td>135.87</td>\n",
       "      <td>136.17</td>\n",
       "      <td>63261393</td>\n",
       "      <td>136.555543</td>\n",
       "      <td>137.004214</td>\n",
       "      <td>135.468762</td>\n",
       "      <td>135.767876</td>\n",
       "      <td>63261393</td>\n",
       "      <td>0.0</td>\n",
       "      <td>1.0</td>\n",
       "    </tr>\n",
       "    <tr>\n",
       "      <th>2021-07-01 00:00:00+00:00</th>\n",
       "      <td>137.27</td>\n",
       "      <td>137.330</td>\n",
       "      <td>135.76</td>\n",
       "      <td>136.60</td>\n",
       "      <td>52485781</td>\n",
       "      <td>136.864627</td>\n",
       "      <td>136.924450</td>\n",
       "      <td>135.359086</td>\n",
       "      <td>136.196606</td>\n",
       "      <td>52485781</td>\n",
       "      <td>0.0</td>\n",
       "      <td>1.0</td>\n",
       "    </tr>\n",
       "  </tbody>\n",
       "</table>\n",
       "<p>378 rows × 12 columns</p>\n",
       "</div>"
      ],
      "text/plain": [
       "                                   close     high     low    open    volume  \\\n",
       "symbol date                                                                   \n",
       "AAPL   2020-01-02 00:00:00+00:00  300.35  300.600  295.19  296.24  33911864   \n",
       "       2020-01-03 00:00:00+00:00  297.43  300.580  296.50  297.15  36633878   \n",
       "       2020-01-06 00:00:00+00:00  299.80  299.960  292.75  293.79  29644644   \n",
       "       2020-01-07 00:00:00+00:00  298.39  300.900  297.48  299.84  27877655   \n",
       "       2020-01-08 00:00:00+00:00  303.19  304.440  297.16  297.16  33090946   \n",
       "...                                  ...      ...     ...     ...       ...   \n",
       "       2021-06-25 00:00:00+00:00  133.11  133.890  132.81  133.46  70783746   \n",
       "       2021-06-28 00:00:00+00:00  134.78  135.245  133.35  133.41  62111303   \n",
       "       2021-06-29 00:00:00+00:00  136.33  136.490  134.35  134.80  64556081   \n",
       "       2021-06-30 00:00:00+00:00  136.96  137.410  135.87  136.17  63261393   \n",
       "       2021-07-01 00:00:00+00:00  137.27  137.330  135.76  136.60  52485781   \n",
       "\n",
       "                                    adjClose     adjHigh      adjLow  \\\n",
       "symbol date                                                            \n",
       "AAPL   2020-01-02 00:00:00+00:00   73.987632   74.049217   72.716528   \n",
       "       2020-01-03 00:00:00+00:00   73.268325   74.044290   73.039231   \n",
       "       2020-01-06 00:00:00+00:00   73.852146   73.891560   72.115463   \n",
       "       2020-01-07 00:00:00+00:00   73.504810   74.123118   73.280642   \n",
       "       2020-01-08 00:00:00+00:00   74.687232   74.995155   73.201814   \n",
       "...                                      ...         ...         ...   \n",
       "       2021-06-25 00:00:00+00:00  132.716912  133.494609  132.417798   \n",
       "       2021-06-28 00:00:00+00:00  134.381980  134.845607  132.956203   \n",
       "       2021-06-29 00:00:00+00:00  135.927403  136.086931  133.953250   \n",
       "       2021-06-30 00:00:00+00:00  136.555543  137.004214  135.468762   \n",
       "       2021-07-01 00:00:00+00:00  136.864627  136.924450  135.359086   \n",
       "\n",
       "                                     adjOpen  adjVolume  divCash  splitFactor  \n",
       "symbol date                                                                    \n",
       "AAPL   2020-01-02 00:00:00+00:00   72.975183  135647456      0.0          1.0  \n",
       "       2020-01-03 00:00:00+00:00   73.199350  146535512      0.0          1.0  \n",
       "       2020-01-06 00:00:00+00:00   72.371655  118578576      0.0          1.0  \n",
       "       2020-01-07 00:00:00+00:00   73.862000  111510620      0.0          1.0  \n",
       "       2020-01-08 00:00:00+00:00   73.201814  132363784      0.0          1.0  \n",
       "...                                      ...        ...      ...          ...  \n",
       "       2021-06-25 00:00:00+00:00  133.065879   70783746      0.0          1.0  \n",
       "       2021-06-28 00:00:00+00:00  133.016026   62111303      0.0          1.0  \n",
       "       2021-06-29 00:00:00+00:00  134.401921   64556081      0.0          1.0  \n",
       "       2021-06-30 00:00:00+00:00  135.767876   63261393      0.0          1.0  \n",
       "       2021-07-01 00:00:00+00:00  136.196606   52485781      0.0          1.0  \n",
       "\n",
       "[378 rows x 12 columns]"
      ]
     },
     "execution_count": 46,
     "metadata": {},
     "output_type": "execute_result"
    }
   ],
   "source": [
    "# Alternatively we need to use Tiingo datareader. \n",
    "# Please create a free account to get free token here: https://api.tiingo.com/ (click sign up for free account)\n",
    "\n",
    "import pandas_datareader as pdr\n",
    "\n",
    "\n",
    "api_key='88e4c1e8c4d1d2aede66b18385fd08e7dcb14ec7' # <your OWN API token aka key goes here>\n",
    "\n",
    "start=\"2020-1-1\"\n",
    "end=\"2021-7-1\"\n",
    "\n",
    "df = pdr.tiingo.TiingoDailyReader('AAPL', start=start, end=end, api_key=api_key)\n",
    "\n",
    "\n",
    "aapl = df.read()\n",
    "\n",
    "aapl"
   ]
  },
  {
   "cell_type": "code",
   "execution_count": 52,
   "metadata": {
    "slideshow": {
     "slide_type": "subslide"
    }
   },
   "outputs": [
    {
     "data": {
      "text/html": [
       "<div>\n",
       "<style scoped>\n",
       "    .dataframe tbody tr th:only-of-type {\n",
       "        vertical-align: middle;\n",
       "    }\n",
       "\n",
       "    .dataframe tbody tr th {\n",
       "        vertical-align: top;\n",
       "    }\n",
       "\n",
       "    .dataframe thead th {\n",
       "        text-align: right;\n",
       "    }\n",
       "</style>\n",
       "<table border=\"1\" class=\"dataframe\">\n",
       "  <thead>\n",
       "    <tr style=\"text-align: right;\">\n",
       "      <th></th>\n",
       "      <th>symbol</th>\n",
       "      <th>close</th>\n",
       "      <th>high</th>\n",
       "      <th>low</th>\n",
       "      <th>open</th>\n",
       "      <th>volume</th>\n",
       "      <th>adjClose</th>\n",
       "      <th>adjHigh</th>\n",
       "      <th>adjLow</th>\n",
       "      <th>adjOpen</th>\n",
       "      <th>adjVolume</th>\n",
       "      <th>divCash</th>\n",
       "      <th>splitFactor</th>\n",
       "    </tr>\n",
       "    <tr>\n",
       "      <th>date</th>\n",
       "      <th></th>\n",
       "      <th></th>\n",
       "      <th></th>\n",
       "      <th></th>\n",
       "      <th></th>\n",
       "      <th></th>\n",
       "      <th></th>\n",
       "      <th></th>\n",
       "      <th></th>\n",
       "      <th></th>\n",
       "      <th></th>\n",
       "      <th></th>\n",
       "      <th></th>\n",
       "    </tr>\n",
       "  </thead>\n",
       "  <tbody>\n",
       "    <tr>\n",
       "      <th>2020-01-02</th>\n",
       "      <td>AAPL</td>\n",
       "      <td>300.35</td>\n",
       "      <td>300.600</td>\n",
       "      <td>295.19</td>\n",
       "      <td>296.24</td>\n",
       "      <td>33911864</td>\n",
       "      <td>73.987632</td>\n",
       "      <td>74.049217</td>\n",
       "      <td>72.716528</td>\n",
       "      <td>72.975183</td>\n",
       "      <td>135647456</td>\n",
       "      <td>0.0</td>\n",
       "      <td>1.0</td>\n",
       "    </tr>\n",
       "    <tr>\n",
       "      <th>2020-01-03</th>\n",
       "      <td>AAPL</td>\n",
       "      <td>297.43</td>\n",
       "      <td>300.580</td>\n",
       "      <td>296.50</td>\n",
       "      <td>297.15</td>\n",
       "      <td>36633878</td>\n",
       "      <td>73.268325</td>\n",
       "      <td>74.044290</td>\n",
       "      <td>73.039231</td>\n",
       "      <td>73.199350</td>\n",
       "      <td>146535512</td>\n",
       "      <td>0.0</td>\n",
       "      <td>1.0</td>\n",
       "    </tr>\n",
       "    <tr>\n",
       "      <th>2020-01-06</th>\n",
       "      <td>AAPL</td>\n",
       "      <td>299.80</td>\n",
       "      <td>299.960</td>\n",
       "      <td>292.75</td>\n",
       "      <td>293.79</td>\n",
       "      <td>29644644</td>\n",
       "      <td>73.852146</td>\n",
       "      <td>73.891560</td>\n",
       "      <td>72.115463</td>\n",
       "      <td>72.371655</td>\n",
       "      <td>118578576</td>\n",
       "      <td>0.0</td>\n",
       "      <td>1.0</td>\n",
       "    </tr>\n",
       "    <tr>\n",
       "      <th>2020-01-07</th>\n",
       "      <td>AAPL</td>\n",
       "      <td>298.39</td>\n",
       "      <td>300.900</td>\n",
       "      <td>297.48</td>\n",
       "      <td>299.84</td>\n",
       "      <td>27877655</td>\n",
       "      <td>73.504810</td>\n",
       "      <td>74.123118</td>\n",
       "      <td>73.280642</td>\n",
       "      <td>73.862000</td>\n",
       "      <td>111510620</td>\n",
       "      <td>0.0</td>\n",
       "      <td>1.0</td>\n",
       "    </tr>\n",
       "    <tr>\n",
       "      <th>2020-01-08</th>\n",
       "      <td>AAPL</td>\n",
       "      <td>303.19</td>\n",
       "      <td>304.440</td>\n",
       "      <td>297.16</td>\n",
       "      <td>297.16</td>\n",
       "      <td>33090946</td>\n",
       "      <td>74.687232</td>\n",
       "      <td>74.995155</td>\n",
       "      <td>73.201814</td>\n",
       "      <td>73.201814</td>\n",
       "      <td>132363784</td>\n",
       "      <td>0.0</td>\n",
       "      <td>1.0</td>\n",
       "    </tr>\n",
       "    <tr>\n",
       "      <th>...</th>\n",
       "      <td>...</td>\n",
       "      <td>...</td>\n",
       "      <td>...</td>\n",
       "      <td>...</td>\n",
       "      <td>...</td>\n",
       "      <td>...</td>\n",
       "      <td>...</td>\n",
       "      <td>...</td>\n",
       "      <td>...</td>\n",
       "      <td>...</td>\n",
       "      <td>...</td>\n",
       "      <td>...</td>\n",
       "      <td>...</td>\n",
       "    </tr>\n",
       "    <tr>\n",
       "      <th>2021-06-25</th>\n",
       "      <td>AAPL</td>\n",
       "      <td>133.11</td>\n",
       "      <td>133.890</td>\n",
       "      <td>132.81</td>\n",
       "      <td>133.46</td>\n",
       "      <td>70783746</td>\n",
       "      <td>132.716912</td>\n",
       "      <td>133.494609</td>\n",
       "      <td>132.417798</td>\n",
       "      <td>133.065879</td>\n",
       "      <td>70783746</td>\n",
       "      <td>0.0</td>\n",
       "      <td>1.0</td>\n",
       "    </tr>\n",
       "    <tr>\n",
       "      <th>2021-06-28</th>\n",
       "      <td>AAPL</td>\n",
       "      <td>134.78</td>\n",
       "      <td>135.245</td>\n",
       "      <td>133.35</td>\n",
       "      <td>133.41</td>\n",
       "      <td>62111303</td>\n",
       "      <td>134.381980</td>\n",
       "      <td>134.845607</td>\n",
       "      <td>132.956203</td>\n",
       "      <td>133.016026</td>\n",
       "      <td>62111303</td>\n",
       "      <td>0.0</td>\n",
       "      <td>1.0</td>\n",
       "    </tr>\n",
       "    <tr>\n",
       "      <th>2021-06-29</th>\n",
       "      <td>AAPL</td>\n",
       "      <td>136.33</td>\n",
       "      <td>136.490</td>\n",
       "      <td>134.35</td>\n",
       "      <td>134.80</td>\n",
       "      <td>64556081</td>\n",
       "      <td>135.927403</td>\n",
       "      <td>136.086931</td>\n",
       "      <td>133.953250</td>\n",
       "      <td>134.401921</td>\n",
       "      <td>64556081</td>\n",
       "      <td>0.0</td>\n",
       "      <td>1.0</td>\n",
       "    </tr>\n",
       "    <tr>\n",
       "      <th>2021-06-30</th>\n",
       "      <td>AAPL</td>\n",
       "      <td>136.96</td>\n",
       "      <td>137.410</td>\n",
       "      <td>135.87</td>\n",
       "      <td>136.17</td>\n",
       "      <td>63261393</td>\n",
       "      <td>136.555543</td>\n",
       "      <td>137.004214</td>\n",
       "      <td>135.468762</td>\n",
       "      <td>135.767876</td>\n",
       "      <td>63261393</td>\n",
       "      <td>0.0</td>\n",
       "      <td>1.0</td>\n",
       "    </tr>\n",
       "    <tr>\n",
       "      <th>2021-07-01</th>\n",
       "      <td>AAPL</td>\n",
       "      <td>137.27</td>\n",
       "      <td>137.330</td>\n",
       "      <td>135.76</td>\n",
       "      <td>136.60</td>\n",
       "      <td>52485781</td>\n",
       "      <td>136.864627</td>\n",
       "      <td>136.924450</td>\n",
       "      <td>135.359086</td>\n",
       "      <td>136.196606</td>\n",
       "      <td>52485781</td>\n",
       "      <td>0.0</td>\n",
       "      <td>1.0</td>\n",
       "    </tr>\n",
       "  </tbody>\n",
       "</table>\n",
       "<p>378 rows × 13 columns</p>\n",
       "</div>"
      ],
      "text/plain": [
       "           symbol   close     high     low    open    volume    adjClose  \\\n",
       "date                                                                       \n",
       "2020-01-02   AAPL  300.35  300.600  295.19  296.24  33911864   73.987632   \n",
       "2020-01-03   AAPL  297.43  300.580  296.50  297.15  36633878   73.268325   \n",
       "2020-01-06   AAPL  299.80  299.960  292.75  293.79  29644644   73.852146   \n",
       "2020-01-07   AAPL  298.39  300.900  297.48  299.84  27877655   73.504810   \n",
       "2020-01-08   AAPL  303.19  304.440  297.16  297.16  33090946   74.687232   \n",
       "...           ...     ...      ...     ...     ...       ...         ...   \n",
       "2021-06-25   AAPL  133.11  133.890  132.81  133.46  70783746  132.716912   \n",
       "2021-06-28   AAPL  134.78  135.245  133.35  133.41  62111303  134.381980   \n",
       "2021-06-29   AAPL  136.33  136.490  134.35  134.80  64556081  135.927403   \n",
       "2021-06-30   AAPL  136.96  137.410  135.87  136.17  63261393  136.555543   \n",
       "2021-07-01   AAPL  137.27  137.330  135.76  136.60  52485781  136.864627   \n",
       "\n",
       "               adjHigh      adjLow     adjOpen  adjVolume  divCash  \\\n",
       "date                                                                 \n",
       "2020-01-02   74.049217   72.716528   72.975183  135647456      0.0   \n",
       "2020-01-03   74.044290   73.039231   73.199350  146535512      0.0   \n",
       "2020-01-06   73.891560   72.115463   72.371655  118578576      0.0   \n",
       "2020-01-07   74.123118   73.280642   73.862000  111510620      0.0   \n",
       "2020-01-08   74.995155   73.201814   73.201814  132363784      0.0   \n",
       "...                ...         ...         ...        ...      ...   \n",
       "2021-06-25  133.494609  132.417798  133.065879   70783746      0.0   \n",
       "2021-06-28  134.845607  132.956203  133.016026   62111303      0.0   \n",
       "2021-06-29  136.086931  133.953250  134.401921   64556081      0.0   \n",
       "2021-06-30  137.004214  135.468762  135.767876   63261393      0.0   \n",
       "2021-07-01  136.924450  135.359086  136.196606   52485781      0.0   \n",
       "\n",
       "            splitFactor  \n",
       "date                     \n",
       "2020-01-02          1.0  \n",
       "2020-01-03          1.0  \n",
       "2020-01-06          1.0  \n",
       "2020-01-07          1.0  \n",
       "2020-01-08          1.0  \n",
       "...                 ...  \n",
       "2021-06-25          1.0  \n",
       "2021-06-28          1.0  \n",
       "2021-06-29          1.0  \n",
       "2021-06-30          1.0  \n",
       "2021-07-01          1.0  \n",
       "\n",
       "[378 rows x 13 columns]"
      ]
     },
     "execution_count": 52,
     "metadata": {},
     "output_type": "execute_result"
    }
   ],
   "source": [
    "# Great! Now let's write the data we got from this FINANCE API to a new CSV file\n",
    "\n",
    "import pandas as pd\n",
    "\n",
    "aapl.to_csv('../data/aapl_historical.csv',  date_format='%Y-%m-%d') # your fle paths and file name\n",
    "\n",
    "# let's read the file that we have just written\n",
    "saved_df = pd.read_csv('../data/aapl_historical.csv', header=0, index_col='date', parse_dates=True)\n",
    "\n",
    "saved_df"
   ]
  }
 ],
 "metadata": {
  "celltoolbar": "Slideshow",
  "kernelspec": {
   "display_name": "Python 3 (ipykernel)",
   "language": "python",
   "name": "python3"
  },
  "language_info": {
   "codemirror_mode": {
    "name": "ipython",
    "version": 3
   },
   "file_extension": ".py",
   "mimetype": "text/x-python",
   "name": "python",
   "nbconvert_exporter": "python",
   "pygments_lexer": "ipython3",
   "version": "3.7.3"
  }
 },
 "nbformat": 4,
 "nbformat_minor": 2
}
